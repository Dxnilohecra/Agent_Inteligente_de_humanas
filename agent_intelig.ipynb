{
  "nbformat": 4,
  "nbformat_minor": 0,
  "metadata": {
    "colab": {
      "provenance": []
    },
    "kernelspec": {
      "name": "python3",
      "display_name": "Python 3"
    },
    "language_info": {
      "name": "python"
    }
  },
  "cells": [
    {
      "cell_type": "code",
      "execution_count": 14,
      "metadata": {
        "id": "swjesJNEZRhm"
      },
      "outputs": [],
      "source": [
        "!pip install -q --upgrade langchain-google-genai google-generativeai"
      ]
    },
    {
      "cell_type": "code",
      "source": [
        "from google.colab import userdata\n",
        "from langchain_google_genai import ChatGoogleGenerativeAI\n",
        "API_KEY = userdata.get('app_key')"
      ],
      "metadata": {
        "id": "rpkE7Qyma9H7"
      },
      "execution_count": 15,
      "outputs": []
    },
    {
      "cell_type": "code",
      "source": [
        "SELETIVE_PROMPT = (\n",
        "    \"\"\"Você é um agente de IA especializado em responder perguntas sobre história, geografia, filosofia, ética, moral e sociologia.\n",
        "Ao responder:\n",
        "1. Forneça uma explicação clara, objetiva e estruturada sobre o tema solicitado.\n",
        "2. Utilize uma linguagem acessível, mas com rigor intelectual.\n",
        "3. Sempre ofereça referências para aprofundamento, que podem incluir: livros, artigos acadêmicos, vídeos, filmes, sites confiáveis, etc.\n",
        "4. A resposta final deve ser entregue **exclusivamente em formato JSON**, seguindo a seguinte estrutura:\n",
        "\n",
        "{\n",
        "  \\\"pergunta\\\": \\\"[texto da pergunta do usuário]\\\",\n",
        "  \\\"resposta\\\": \\\"[resposta detalhada da IA]\\\",\n",
        "  \\\"fontes\\\": [\n",
        "    {\n",
        "      \\\"tipo\\\": \\\"[livro | artigo | site | vídeo | filme]\\\",\n",
        "      \\\"referencia\\\": \\\"[título, autor, link ou identificação da fonte]\\\"\n",
        "    }\n",
        "  ]\n",
        "}\n",
        "\n",
        "Não invente fontes inexistentes. Caso não tenha fontes específicas, indique caminhos gerais de pesquisa (ex: bases de dados, autores reconhecidos, instituições).\"\"\"\n",
        ")"
      ],
      "metadata": {
        "id": "Agg8l1LmibaO"
      },
      "execution_count": 16,
      "outputs": []
    },
    {
      "cell_type": "code",
      "source": [
        "from pydantic import BaseModel, Field\n",
        "from typing import Literal, List, Dict\n",
        "\n",
        "class SeletiveOut(BaseModel):\n",
        "  pergunta: str = Field(description=\"Pergunta do usuário\")\n",
        "  resposta: str = Field(description=\"Resposta da IA\")\n",
        "  fontes: List[Dict[Literal[\"livro\", \"artigo\", \"site\", \"vídeo\", \"filme\"], str]]"
      ],
      "metadata": {
        "id": "VTyefl45jqNy"
      },
      "execution_count": 17,
      "outputs": []
    },
    {
      "cell_type": "code",
      "source": [
        "llm = ChatGoogleGenerativeAI(\n",
        "    model=\"gemini-2.5-flash\",\n",
        "    temperature=1,\n",
        "    api_key=API_KEY,\n",
        ")"
      ],
      "metadata": {
        "id": "QuTNENDmlNqg"
      },
      "execution_count": null,
      "outputs": []
    },
    {
      "cell_type": "code",
      "source": [
        "from langchain_core.messages import HumanMessage, SystemMessage\n",
        "\n",
        "Seletive_chain = llm.with_structured_output(SeletiveOut)\n",
        "\n",
        "def seletive(mensagem: str) -> Dict:\n",
        "  saida: SELETIVE_PROMPT = Seletive_chain.invoke([\n",
        "      SystemMessage(content=SELETIVE_PROMPT),\n",
        "      HumanMessage(content=mensagem)\n",
        "  ])\n",
        "\n",
        "  return saida.model_dump()"
      ],
      "metadata": {
        "id": "Q_FII6qfluk1"
      },
      "execution_count": 18,
      "outputs": []
    },
    {
      "cell_type": "code",
      "source": [
        "test = [\"O que é sociologia ?\"]\n",
        "for i in test:\n",
        "  print(seletive(i))"
      ],
      "metadata": {
        "colab": {
          "base_uri": "https://localhost:8080/"
        },
        "id": "jHbiefC8o3Bg",
        "outputId": "b2123f1f-b7f8-443b-d066-98c5edfb7a59"
      },
      "execution_count": 21,
      "outputs": [
        {
          "output_type": "stream",
          "name": "stdout",
          "text": [
            "{'pergunta': 'O que é sociologia ?', 'resposta': 'A sociologia é a ciência que se dedica ao estudo da sociedade humana, suas estruturas, relações sociais, interações e processos culturais. Ela busca compreender como os indivíduos e os grupos sociais se organizam, agem, pensam e se transformam ao longo do tempo. \\n\\n**Principais Objetivos:**\\n*   **Analisar padrões sociais:** Identificar regularidades e tendências no comportamento humano e nas relações sociais.\\n*   **Investigar instituições sociais:** Estudar como instituições como a família, o Estado, a escola, a religião e a economia moldam a vida social.\\n*   **Compreender a desigualdade:** Examinar as causas e consequências das desigualdades sociais (classe, gênero, raça, etc.).\\n*   **Explicar a mudança social:** Analisar os fatores que levam às transformações na sociedade, como movimentos sociais, avanços tecnológicos e globalização.\\n\\n**Métodos de Estudo:**\\nOs sociólogos utilizam uma variedade de métodos de pesquisa, tanto qualitativos (entrevistas, observação participante, análise de discurso) quanto quantitativos (pesquisas de opinião, análise estatística de dados), para coletar e analisar informações sobre o mundo social. \\n\\nEm essência, a sociologia oferece ferramentas para desenvolver uma \"imaginação sociológica\", permitindo que as pessoas compreendam a conexão entre suas experiências pessoais e as grandes forças sociais e históricas que as influenciam.', 'fontes': [{}, {}, {}, {}, {}, {}]}\n"
          ]
        }
      ]
    }
  ]
}